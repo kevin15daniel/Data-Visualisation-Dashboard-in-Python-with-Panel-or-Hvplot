{
  "nbformat": 4,
  "nbformat_minor": 0,
  "metadata": {
    "colab": {
      "provenance": []
    },
    "kernelspec": {
      "name": "python3",
      "display_name": "Python 3"
    },
    "language_info": {
      "name": "python"
    }
  },
  "cells": [
    {
      "cell_type": "code",
      "source": [
        "pip install hvplot jupyterlab"
      ],
      "metadata": {
        "id": "H2Ovwub7klN-"
      },
      "execution_count": null,
      "outputs": []
    },
    {
      "cell_type": "code",
      "source": [
        "pip install panel"
      ],
      "metadata": {
        "id": "0X05nz8qk2ul"
      },
      "execution_count": null,
      "outputs": []
    },
    {
      "cell_type": "code",
      "source": [
        "import pandas as pd\n",
        "import numpy as np\n",
        "import panel as pn\n",
        "pn.extension('tabulator')\n",
        "import hvplot.pandas"
      ],
      "metadata": {
        "id": "CXjinnPwk7Hd"
      },
      "execution_count": null,
      "outputs": []
    },
    {
      "cell_type": "code",
      "source": [
        "df = pd.read_csv(\"https://raw.githubusercontent.com/owid/co2-data/master/owid-co2-data.csv\")\n",
        "df"
      ],
      "metadata": {
        "id": "fEV63g3dlaA1"
      },
      "execution_count": null,
      "outputs": []
    },
    {
      "cell_type": "code",
      "source": [
        "df.columns"
      ],
      "metadata": {
        "id": "OC-ozfig1DRh"
      },
      "execution_count": null,
      "outputs": []
    },
    {
      "cell_type": "code",
      "source": [
        "df[df['country'] == 'World']"
      ],
      "metadata": {
        "id": "1tvshcRTmqbM"
      },
      "execution_count": null,
      "outputs": []
    },
    {
      "cell_type": "markdown",
      "source": [
        "# **Program:**"
      ],
      "metadata": {
        "id": "Tqrvd3BamwwT"
      }
    },
    {
      "cell_type": "markdown",
      "source": [
        "**1.** Minor data preprocessing."
      ],
      "metadata": {
        "id": "XdvXHmUvAKKs"
      }
    },
    {
      "cell_type": "code",
      "source": [
        "# Create a column for GDP per capita and enter 0s in NAs.\n",
        "df = df.fillna(0)\n",
        "df['gdp_per_capita'] = np.where(df['population']!=0, df['gdp']/df['population'], 0)"
      ],
      "metadata": {
        "id": "fooBmiKGm9Xy"
      },
      "execution_count": 9,
      "outputs": []
    },
    {
      "cell_type": "code",
      "source": [
        "# Create an interactive dataFrame pipeline.\n",
        "idf = df.interactive()"
      ],
      "metadata": {
        "id": "9-aXqJR9nGz7"
      },
      "execution_count": 10,
      "outputs": []
    },
    {
      "cell_type": "markdown",
      "source": [
        "**2.** CO₂ emission over time by continent."
      ],
      "metadata": {
        "id": "k-hr62OwnKcS"
      }
    },
    {
      "cell_type": "code",
      "source": [
        "# Describe the panel widgets.\n",
        "year_slider = pn.widgets.IntSlider(name='Year slider', start=1750, end=2020, step=5, value=1850)\n",
        "year_slider"
      ],
      "metadata": {
        "id": "7NedoK2rnTtC"
      },
      "execution_count": null,
      "outputs": []
    },
    {
      "cell_type": "code",
      "source": [
        "# Radio buttons for measuring CO2 levels.\n",
        "yaxis_co2 = pn.widgets.RadioButtonGroup(name='Y axis', options=['co2', 'co2_per_capita',], button_type='success')"
      ],
      "metadata": {
        "id": "Oef-7jb6nZyy"
      },
      "execution_count": 12,
      "outputs": []
    },
    {
      "cell_type": "code",
      "source": [
        "continents = ['World', 'Asia', 'Oceania', 'Europe', 'Africa', 'North America', 'South America', 'Antarctica']\n",
        "co2_pipeline = (\n",
        "    idf[\n",
        "        (idf.year <= year_slider) &\n",
        "        (idf.country.isin(continents))\n",
        "    ]\n",
        "    .groupby(['country', 'year'])[yaxis_co2].mean()\n",
        "    .to_frame()\n",
        "    .reset_index()\n",
        "    .sort_values(by='year')\n",
        "    .reset_index(drop=True)\n",
        ")"
      ],
      "metadata": {
        "id": "n0uPV9Jqnfg0"
      },
      "execution_count": null,
      "outputs": []
    },
    {
      "cell_type": "code",
      "source": [
        "co2_plot = co2_pipeline.hvplot(x='year', by='country', y=yaxis_co2, line_width=2, title=\"CO₂ EMMISION BY CONTINENT\")\n",
        "co2_plot"
      ],
      "metadata": {
        "id": "PI_U9mdsnlGi"
      },
      "execution_count": null,
      "outputs": []
    },
    {
      "cell_type": "code",
      "source": [
        "co2_table = co2_pipeline.pipe(pn.widgets.Tabulator, pagination='remote', page_size=10, sizing_mode='stretch_width')\n",
        "co2_table"
      ],
      "metadata": {
        "id": "FSpj-EfxnuNi"
      },
      "execution_count": null,
      "outputs": []
    },
    {
      "cell_type": "markdown",
      "source": [
        "**3.** CO₂ vs GDP scatterplot."
      ],
      "metadata": {
        "id": "vuP1FnW-n3L7"
      }
    },
    {
      "cell_type": "code",
      "source": [
        "co2_vs_gdp_scatterplot_pipeline = (\n",
        "    idf[\n",
        "        (idf.year == year_slider) &\n",
        "        (~ (idf.country.isin(continents)))\n",
        "    ]\n",
        "    .groupby(['country', 'year', 'gdp_per_capita'])['co2'].mean()\n",
        "    .to_frame()\n",
        "    .reset_index()\n",
        "    .sort_values(by='year')\n",
        "    .reset_index(drop=True)\n",
        ")"
      ],
      "metadata": {
        "id": "UAQGdGcHn7WS"
      },
      "execution_count": null,
      "outputs": []
    },
    {
      "cell_type": "code",
      "source": [
        "co2_vs_gdp_scatterplot_pipeline"
      ],
      "metadata": {
        "id": "kXycdeVAn_7r"
      },
      "execution_count": null,
      "outputs": []
    },
    {
      "cell_type": "code",
      "source": [
        "co2_vs_gdp_scatterplot = co2_vs_gdp_scatterplot_pipeline.hvplot(x='gdp_per_capita', y='co2', by='country', size=80, kind=\"scatter\", alpha=0.7, legend=False, height=500, width=500)\n",
        "co2_vs_gdp_scatterplot"
      ],
      "metadata": {
        "id": "BTkvaRrPoCUK"
      },
      "execution_count": null,
      "outputs": []
    },
    {
      "cell_type": "markdown",
      "source": [
        "**4.** Bar chart with CO₂ sources by continent."
      ],
      "metadata": {
        "id": "wtXAauIyqbrv"
      }
    },
    {
      "cell_type": "code",
      "source": [
        "yaxis_co2_source = pn.widgets.RadioButtonGroup(name='Y axis', options=['coal_co2', 'oil_co2', 'gas_co2'], button_type='success')\n",
        "continents_excl_world = ['Asia', 'Oceania', 'Europe', 'Africa', 'North America', 'South America', 'Antarctica']\n",
        "co2_source_bar_pipeline = (\n",
        "    idf[\n",
        "        (idf.year == year_slider) &\n",
        "        (idf.country.isin(continents_excl_world))\n",
        "    ]\n",
        "    .groupby(['year', 'country'])[yaxis_co2_source].sum()\n",
        "    .to_frame()\n",
        "    .reset_index()\n",
        "    .sort_values(by='year')\n",
        "    .reset_index(drop=True)\n",
        ")"
      ],
      "metadata": {
        "id": "wTNcTBqKqj5n"
      },
      "execution_count": null,
      "outputs": []
    },
    {
      "cell_type": "code",
      "source": [
        "co2_source_bar_plot = co2_source_bar_pipeline.hvplot(kind='bar', x='country', y=yaxis_co2_source, title='CO₂ SOURCE BY CONTINENT')\n",
        "co2_source_bar_plot"
      ],
      "metadata": {
        "id": "KMkQHAwXqo5v"
      },
      "execution_count": null,
      "outputs": []
    },
    {
      "cell_type": "markdown",
      "source": [
        "**5.** Creating a Dashboard."
      ],
      "metadata": {
        "id": "TQgtC5h-qwyI"
      }
    },
    {
      "cell_type": "code",
      "source": [
        "template = pn.template.FastListTemplate(\n",
        "    title = 'WORLD CO₂ EMISSION DASHBOARD',\n",
        "    sidebar = [pn.pane.Markdown(\"# CO₂ Emissions and Climate Change\"),\n",
        "             pn.pane.Markdown(\"#### Carbon-di-oxide emissions are the primary driver of global climate change. It’s widely recognised that to avoid the worst impacts of climate change, the world needs to urgently reduce emissions. But, how this responsibility is shared between regions, countries, and individuals has been an endless point of contention in international discussions.\"),\n",
        "             pn.pane.PNG('image.png', sizing_mode='scale_both'),\n",
        "             pn.pane.Markdown(\"## Settings\"),\n",
        "             year_slider],\n",
        "    main = [pn.Row(pn.Column(yaxis_co2, co2_plot.panel(width=700), margin=(0,25)), co2_table.panel(width=500)),\n",
        "            pn.Row(pn.Column(co2_vs_gdp_scatterplot.panel(width=600), margin=(0,25)),\n",
        "                   pn.Column(yaxis_co2_source, co2_source_bar_plot.panel(width=600)))],\n",
        "    accent_base_color = \"#88d8b0\",\n",
        "    header_background = \"#88d8b0\",\n",
        ")\n",
        "template.show()\n",
        "template.servable();"
      ],
      "metadata": {
        "id": "EPHIpEb24p44"
      },
      "execution_count": null,
      "outputs": []
    }
  ]
}